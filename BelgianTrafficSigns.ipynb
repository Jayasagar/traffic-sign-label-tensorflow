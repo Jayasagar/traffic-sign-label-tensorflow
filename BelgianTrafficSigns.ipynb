{
 "cells": [
  {
   "cell_type": "code",
   "execution_count": null,
   "metadata": {},
   "outputs": [],
   "source": []
  },
  {
   "cell_type": "code",
   "execution_count": 1,
   "metadata": {},
   "outputs": [],
   "source": [
    "# DON'T DO THIS\n",
    "####### !pip install numpy"
   ]
  },
  {
   "cell_type": "code",
   "execution_count": 2,
   "metadata": {},
   "outputs": [],
   "source": [
    "# Ref: https://jakevdp.github.io/blog/2017/12/05/installing-python-packages-from-jupyter/\n",
    "\n",
    "# Jupyter Shortcuts and tricks\n",
    "# https://www.dataquest.io/blog/jupyter-notebook-tips-tricks-shortcuts/"
   ]
  },
  {
   "cell_type": "code",
   "execution_count": 3,
   "metadata": {},
   "outputs": [
    {
     "name": "stdout",
     "output_type": "stream",
     "text": [
      "Requirement already satisfied: numpy in /Library/Frameworks/Python.framework/Versions/3.6/lib/python3.6/site-packages (1.14.5)\n",
      "\u001b[31mrsa 3.4.2 requires pyasn1>=0.1.3, which is not installed.\u001b[0m\n",
      "\u001b[33mYou are using pip version 10.0.1, however version 18.1 is available.\n",
      "You should consider upgrading via the 'pip install --upgrade pip' command.\u001b[0m\n"
     ]
    }
   ],
   "source": [
    "######### This is Best way ###########\n",
    "# Install a pip package in the current Jupyter kernel\n",
    "import sys\n",
    "!{sys.executable} -m pip install numpy"
   ]
  },
  {
   "cell_type": "code",
   "execution_count": 4,
   "metadata": {},
   "outputs": [],
   "source": [
    "#### Below is always best practice \n",
    "# python -m pip install <package>\n",
    "\n",
    "# because is more explicit about where the package will be installed"
   ]
  },
  {
   "cell_type": "code",
   "execution_count": 5,
   "metadata": {},
   "outputs": [
    {
     "name": "stdout",
     "output_type": "stream",
     "text": [
      "/Library/Frameworks/Python.framework/Versions/3.6/bin:/Users/jay/.rvm/gems/ruby-2.4.1/bin:/Users/jay/.rvm/gems/ruby-2.4.1@global/bin:/Users/jay/.rvm/rubies/ruby-2.4.1/bin:/Users/jay/codeandco/google-cloud-sdk/bin:/Users/jay/Library/Android/sdk/platform-tools:/Users/jay/Library/Android/sdk/tools:/Library/Frameworks/Python.framework/Versions/3.6/bin:/usr/local/bin:/usr/bin:/bin:/usr/sbin:/sbin:/Users/jay/.rvm/bin\r\n"
     ]
    }
   ],
   "source": [
    "!echo $PATH"
   ]
  },
  {
   "cell_type": "code",
   "execution_count": 6,
   "metadata": {},
   "outputs": [
    {
     "name": "stdout",
     "output_type": "stream",
     "text": [
      "python is /usr/bin/python\n",
      "python is /usr/bin/python\n",
      "python3 is /Library/Frameworks/Python.framework/Versions/3.6/bin/python3\n",
      "python3 is /Library/Frameworks/Python.framework/Versions/3.6/bin/python3\n",
      "python3 is /usr/local/bin/python3\n",
      "pip is /usr/local/bin/pip\n",
      "pip3 is /Library/Frameworks/Python.framework/Versions/3.6/bin/pip3\n",
      "pip3 is /Library/Frameworks/Python.framework/Versions/3.6/bin/pip3\n",
      "pip3 is /usr/local/bin/pip3\n"
     ]
    }
   ],
   "source": [
    "!type python\n",
    "\n",
    "### Prints all available Python installations\n",
    "!type -a python\n",
    "!type -a python3\n",
    "\n",
    "!type -a pip\n",
    "!type -a pip3"
   ]
  },
  {
   "cell_type": "code",
   "execution_count": null,
   "metadata": {},
   "outputs": [],
   "source": []
  },
  {
   "cell_type": "code",
   "execution_count": 7,
   "metadata": {},
   "outputs": [
    {
     "data": {
      "text/plain": [
       "['',\n",
       " '/Library/Frameworks/Python.framework/Versions/3.6/lib/python36.zip',\n",
       " '/Library/Frameworks/Python.framework/Versions/3.6/lib/python3.6',\n",
       " '/Library/Frameworks/Python.framework/Versions/3.6/lib/python3.6/lib-dynload',\n",
       " '/Users/jay/Library/Python/3.6/lib/python/site-packages',\n",
       " '/Library/Frameworks/Python.framework/Versions/3.6/lib/python3.6/site-packages',\n",
       " '/Library/Frameworks/Python.framework/Versions/3.6/lib/python3.6/site-packages/IPython/extensions',\n",
       " '/Users/jay/.ipython']"
      ]
     },
     "execution_count": 7,
     "metadata": {},
     "output_type": "execute_result"
    }
   ],
   "source": [
    "## The list of paths searched by Python on import is found in sys.path:\n",
    "import sys\n",
    "sys.path\n"
   ]
  },
  {
   "cell_type": "code",
   "execution_count": 8,
   "metadata": {},
   "outputs": [
    {
     "data": {
      "text/plain": [
       "['/Library/Frameworks/Python.framework/Versions/3.6/lib/python3.6/site-packages/numpy']"
      ]
     },
     "execution_count": 8,
     "metadata": {},
     "output_type": "execute_result"
    }
   ],
   "source": [
    "\n",
    "# By default, the first place Python looks for a module is an empty path, meaning the current working directory.\n",
    "# If the module is not found there, it goes down the list of locations until the module is found. \n",
    "# You can find out which location has been used using the __path__ attribute of an imported module:\n",
    "\n",
    "import numpy as np\n",
    "np.__path__"
   ]
  },
  {
   "cell_type": "code",
   "execution_count": null,
   "metadata": {},
   "outputs": [],
   "source": []
  },
  {
   "cell_type": "code",
   "execution_count": 9,
   "metadata": {},
   "outputs": [
    {
     "name": "stdout",
     "output_type": "stream",
     "text": [
      "Available kernels:\n",
      "  julia-0.6    /Users/jay/Library/Jupyter/kernels/julia-0.6\n",
      "  python3      /Library/Frameworks/Python.framework/Versions/3.6/share/jupyter/kernels/python3\n",
      "python is /usr/bin/python\n",
      "python3 is /Library/Frameworks/Python.framework/Versions/3.6/bin/python3\n"
     ]
    },
    {
     "data": {
      "text/plain": [
       "'/Library/Frameworks/Python.framework/Versions/3.6/bin/python3'"
      ]
     },
     "execution_count": 9,
     "metadata": {},
     "output_type": "execute_result"
    }
   ],
   "source": [
    "# To see the kernels you have available on your system, you can run the following command in the shell:\n",
    "\n",
    "!jupyter kernelspec list\n",
    "\n",
    "# The Python executable being used in the notebook can be determined using\n",
    "!type python\n",
    "!type python3\n",
    "sys.executable"
   ]
  },
  {
   "cell_type": "code",
   "execution_count": 10,
   "metadata": {},
   "outputs": [
    {
     "name": "stdout",
     "output_type": "stream",
     "text": [
      "Requirement already satisfied: tensorflow in /Library/Frameworks/Python.framework/Versions/3.6/lib/python3.6/site-packages (1.10.1)\n",
      "Requirement already satisfied: scikit-image in /Library/Frameworks/Python.framework/Versions/3.6/lib/python3.6/site-packages (0.14.0)\n",
      "Requirement already satisfied: matplotlib in /Library/Frameworks/Python.framework/Versions/3.6/lib/python3.6/site-packages (2.2.3)\n",
      "Requirement already satisfied: watermark in /Library/Frameworks/Python.framework/Versions/3.6/lib/python3.6/site-packages (1.6.1)\n",
      "Requirement already satisfied: wheel>=0.26 in /Library/Frameworks/Python.framework/Versions/3.6/lib/python3.6/site-packages (from tensorflow) (0.31.1)\n",
      "Requirement already satisfied: termcolor>=1.1.0 in /Library/Frameworks/Python.framework/Versions/3.6/lib/python3.6/site-packages (from tensorflow) (1.1.0)\n",
      "Requirement already satisfied: grpcio>=1.8.6 in /Library/Frameworks/Python.framework/Versions/3.6/lib/python3.6/site-packages (from tensorflow) (1.15.0)\n",
      "Requirement already satisfied: astor>=0.6.0 in /Library/Frameworks/Python.framework/Versions/3.6/lib/python3.6/site-packages (from tensorflow) (0.7.1)\n",
      "Requirement already satisfied: tensorboard<1.11.0,>=1.10.0 in /Library/Frameworks/Python.framework/Versions/3.6/lib/python3.6/site-packages (from tensorflow) (1.10.0)\n",
      "Requirement already satisfied: setuptools<=39.1.0 in /Library/Frameworks/Python.framework/Versions/3.6/lib/python3.6/site-packages (from tensorflow) (39.0.1)\n",
      "Requirement already satisfied: gast>=0.2.0 in /Library/Frameworks/Python.framework/Versions/3.6/lib/python3.6/site-packages (from tensorflow) (0.2.0)\n",
      "Requirement already satisfied: absl-py>=0.1.6 in /Library/Frameworks/Python.framework/Versions/3.6/lib/python3.6/site-packages (from tensorflow) (0.4.1)\n",
      "Requirement already satisfied: six>=1.10.0 in /Library/Frameworks/Python.framework/Versions/3.6/lib/python3.6/site-packages (from tensorflow) (1.11.0)\n",
      "Requirement already satisfied: protobuf>=3.6.0 in /Library/Frameworks/Python.framework/Versions/3.6/lib/python3.6/site-packages (from tensorflow) (3.6.1)\n",
      "Requirement already satisfied: numpy<=1.14.5,>=1.13.3 in /Library/Frameworks/Python.framework/Versions/3.6/lib/python3.6/site-packages (from tensorflow) (1.14.5)\n",
      "Requirement already satisfied: networkx>=1.8 in /Library/Frameworks/Python.framework/Versions/3.6/lib/python3.6/site-packages (from scikit-image) (2.1)\n",
      "Requirement already satisfied: scipy>=0.17.0 in /Library/Frameworks/Python.framework/Versions/3.6/lib/python3.6/site-packages (from scikit-image) (1.1.0)\n",
      "Requirement already satisfied: cloudpickle>=0.2.1 in /Library/Frameworks/Python.framework/Versions/3.6/lib/python3.6/site-packages (from scikit-image) (0.5.6)\n",
      "Requirement already satisfied: pillow>=4.3.0 in /Library/Frameworks/Python.framework/Versions/3.6/lib/python3.6/site-packages (from scikit-image) (5.2.0)\n",
      "Requirement already satisfied: PyWavelets>=0.4.0 in /Library/Frameworks/Python.framework/Versions/3.6/lib/python3.6/site-packages (from scikit-image) (1.0.0)\n",
      "Requirement already satisfied: dask[array]>=0.9.0 in /Library/Frameworks/Python.framework/Versions/3.6/lib/python3.6/site-packages (from scikit-image) (0.19.1)\n",
      "Requirement already satisfied: pytz in /Library/Frameworks/Python.framework/Versions/3.6/lib/python3.6/site-packages (from matplotlib) (2018.5)\n",
      "Requirement already satisfied: cycler>=0.10 in /Library/Frameworks/Python.framework/Versions/3.6/lib/python3.6/site-packages (from matplotlib) (0.10.0)\n",
      "Requirement already satisfied: pyparsing!=2.0.4,!=2.1.2,!=2.1.6,>=2.0.1 in /Library/Frameworks/Python.framework/Versions/3.6/lib/python3.6/site-packages (from matplotlib) (2.2.0)\n",
      "Requirement already satisfied: kiwisolver>=1.0.1 in /Library/Frameworks/Python.framework/Versions/3.6/lib/python3.6/site-packages (from matplotlib) (1.0.1)\n",
      "Requirement already satisfied: python-dateutil>=2.1 in /Users/jay/Library/Python/3.6/lib/python/site-packages (from matplotlib) (2.6.1)\n",
      "Requirement already satisfied: ipython in /Library/Frameworks/Python.framework/Versions/3.6/lib/python3.6/site-packages (from watermark) (6.5.0)\n",
      "Requirement already satisfied: markdown>=2.6.8 in /Library/Frameworks/Python.framework/Versions/3.6/lib/python3.6/site-packages (from tensorboard<1.11.0,>=1.10.0->tensorflow) (2.6.11)\n",
      "Requirement already satisfied: werkzeug>=0.11.10 in /Library/Frameworks/Python.framework/Versions/3.6/lib/python3.6/site-packages (from tensorboard<1.11.0,>=1.10.0->tensorflow) (0.14.1)\n",
      "Requirement already satisfied: decorator>=4.1.0 in /Library/Frameworks/Python.framework/Versions/3.6/lib/python3.6/site-packages (from networkx>=1.8->scikit-image) (4.3.0)\n",
      "Requirement already satisfied: toolz>=0.7.3; extra == \"array\" in /Library/Frameworks/Python.framework/Versions/3.6/lib/python3.6/site-packages (from dask[array]>=0.9.0->scikit-image) (0.9.0)\n",
      "Requirement already satisfied: jedi>=0.10 in /Library/Frameworks/Python.framework/Versions/3.6/lib/python3.6/site-packages (from ipython->watermark) (0.12.1)\n",
      "Requirement already satisfied: pickleshare in /Library/Frameworks/Python.framework/Versions/3.6/lib/python3.6/site-packages (from ipython->watermark) (0.7.4)\n",
      "Requirement already satisfied: traitlets>=4.2 in /Library/Frameworks/Python.framework/Versions/3.6/lib/python3.6/site-packages (from ipython->watermark) (4.3.2)\n",
      "Requirement already satisfied: prompt-toolkit<2.0.0,>=1.0.15 in /Library/Frameworks/Python.framework/Versions/3.6/lib/python3.6/site-packages (from ipython->watermark) (1.0.15)\n",
      "Requirement already satisfied: pexpect; sys_platform != \"win32\" in /Library/Frameworks/Python.framework/Versions/3.6/lib/python3.6/site-packages (from ipython->watermark) (4.6.0)\n",
      "Requirement already satisfied: appnope; sys_platform == \"darwin\" in /Library/Frameworks/Python.framework/Versions/3.6/lib/python3.6/site-packages (from ipython->watermark) (0.1.0)\n",
      "Requirement already satisfied: simplegeneric>0.8 in /Library/Frameworks/Python.framework/Versions/3.6/lib/python3.6/site-packages (from ipython->watermark) (0.8.1)\n",
      "Requirement already satisfied: pygments in /Library/Frameworks/Python.framework/Versions/3.6/lib/python3.6/site-packages (from ipython->watermark) (2.2.0)\n",
      "Requirement already satisfied: backcall in /Library/Frameworks/Python.framework/Versions/3.6/lib/python3.6/site-packages (from ipython->watermark) (0.1.0)\n",
      "Requirement already satisfied: parso>=0.3.0 in /Library/Frameworks/Python.framework/Versions/3.6/lib/python3.6/site-packages (from jedi>=0.10->ipython->watermark) (0.3.1)\n",
      "Requirement already satisfied: ipython-genutils in /Library/Frameworks/Python.framework/Versions/3.6/lib/python3.6/site-packages (from traitlets>=4.2->ipython->watermark) (0.2.0)\n",
      "Requirement already satisfied: wcwidth in /Library/Frameworks/Python.framework/Versions/3.6/lib/python3.6/site-packages (from prompt-toolkit<2.0.0,>=1.0.15->ipython->watermark) (0.1.7)\n",
      "Requirement already satisfied: ptyprocess>=0.5 in /Library/Frameworks/Python.framework/Versions/3.6/lib/python3.6/site-packages (from pexpect; sys_platform != \"win32\"->ipython->watermark) (0.6.0)\n",
      "\u001b[31mrsa 3.4.2 requires pyasn1>=0.1.3, which is not installed.\u001b[0m\n",
      "\u001b[33mYou are using pip version 10.0.1, however version 18.1 is available.\n",
      "You should consider upgrading via the 'pip install --upgrade pip' command.\u001b[0m\n"
     ]
    }
   ],
   "source": [
    "# Install a pip package in the current Jupyter kernel# Insta \n",
    "import sys\n",
    "!{sys.executable} -m pip install tensorflow scikit-image matplotlib watermark"
   ]
  },
  {
   "cell_type": "code",
   "execution_count": null,
   "metadata": {},
   "outputs": [],
   "source": []
  },
  {
   "cell_type": "code",
   "execution_count": 11,
   "metadata": {},
   "outputs": [
    {
     "name": "stderr",
     "output_type": "stream",
     "text": [
      "/Library/Frameworks/Python.framework/Versions/3.6/lib/python3.6/importlib/_bootstrap.py:219: RuntimeWarning: compiletime version 3.5 of module 'tensorflow.python.framework.fast_tensor_util' does not match runtime version 3.6\n",
      "  return f(*args, **kwds)\n"
     ]
    },
    {
     "name": "stdout",
     "output_type": "stream",
     "text": [
      "tensorflow 1.10.1\n",
      "skimage 0.14.0\n",
      "matplotlib 2.2.3\n",
      "numpy 1.14.5\n",
      "matplotlib 2.2.3\n",
      "random n\u0007\n"
     ]
    }
   ],
   "source": [
    "%load_ext watermark\n",
    "%watermark -p tensorflow,skimage,matplotlib,numpy,matplotlib,random"
   ]
  },
  {
   "cell_type": "code",
   "execution_count": 12,
   "metadata": {},
   "outputs": [],
   "source": [
    "# Imports\n",
    "\n",
    "import tensorflow as tf\n",
    "from skimage import transform\n",
    "from skimage import data\n",
    "from skimage.color import rgb2gray\n",
    "import matplotlib.pyplot as plt\n",
    "import os\n",
    "import numpy as np\n",
    "import random\n",
    "# Import the `pyplot` module\n",
    "import matplotlib.pyplot as plt \n"
   ]
  },
  {
   "cell_type": "code",
   "execution_count": 13,
   "metadata": {},
   "outputs": [],
   "source": [
    "# Loading And Exploring The Data"
   ]
  },
  {
   "cell_type": "code",
   "execution_count": 15,
   "metadata": {},
   "outputs": [
    {
     "name": "stderr",
     "output_type": "stream",
     "text": [
      "/Library/Frameworks/Python.framework/Versions/3.6/lib/python3.6/site-packages/skimage/transform/_warps.py:105: UserWarning: The default mode, 'constant', will be changed to 'reflect' in skimage 0.15.\n",
      "  warn(\"The default mode, 'constant', will be changed to 'reflect' in \"\n",
      "/Library/Frameworks/Python.framework/Versions/3.6/lib/python3.6/site-packages/skimage/transform/_warps.py:110: UserWarning: Anti-aliasing will be enabled by default in skimage 0.15 to avoid aliasing artifacts when down-sampling images.\n",
      "  warn(\"Anti-aliasing will be enabled by default in skimage 0.15 to \"\n"
     ]
    },
    {
     "name": "stdout",
     "output_type": "stream",
     "text": [
      "images.size: (4575, 28, 28)\n",
      "images.ndim: 3\n",
      "images.size: 3586800\n"
     ]
    }
   ],
   "source": [
    "def load_data(data_dir):\n",
    "    #Get all teh directories in data directory\n",
    "    data_directories = [d for d in os.listdir(data_dir)\n",
    "        if os.path.isdir(os.path.join(data_dir, d))]\n",
    "    labels = []\n",
    "    images = []\n",
    "    for d in data_directories:\n",
    "        label_directory = os.path.join(data_dir, d)\n",
    "        file_names = [os.path.join(label_directory, f) \n",
    "                      for f in os.listdir(label_directory) \n",
    "                      if f.endswith(\".ppm\")]\n",
    "        for f in file_names:\n",
    "            images.append(data.imread(f))\n",
    "            labels.append(int(d))\n",
    "    return images, labels\n",
    "\n",
    "ROOT_PATH = '/Users/jay/github.com/jayasagar/traffic-sign-label-tensorflow'\n",
    "train_data_dir = os.path.join(ROOT_PATH, 'Training');\n",
    "test_data_dir = os.path.join(ROOT_PATH, 'Testing');\n",
    "\n",
    "images, labels = load_data(train_data_dir)\n",
    "\n",
    "# Rescale the images in the `images` array\n",
    "# COMMENT BELOW LINE TO SEE ORIGINAL IMAGES\n",
    "images = [transform.resize(image, (28, 28)) for image in images]\n",
    "\n",
    "images = np.array(images)\n",
    "# COMMENT BELOW LINE TO TURN OFF GRAY SCLAE\n",
    "# Convert `images28` to grayscale\n",
    "images = rgb2gray(images)\n",
    "\n",
    "print('images.size:', images.shape)\n",
    "print('images.ndim:', images.ndim)\n",
    "print('images.size:', images.size)\n",
    "\n",
    "# labels = np.array(labels)\n",
    "# print('labels.ndim:', labels.ndim)\n",
    "# print('labels.size:',labels.size)"
   ]
  },
  {
   "cell_type": "code",
   "execution_count": 16,
   "metadata": {},
   "outputs": [],
   "source": [
    "# ?, you can access the Docstring for quick reference on syntax.\n",
    "?str.replace()"
   ]
  },
  {
   "cell_type": "code",
   "execution_count": 17,
   "metadata": {},
   "outputs": [
    {
     "data": {
      "application/json": {
       "cell": {
        "!": "OSMagics",
        "HTML": "Other",
        "SVG": "Other",
        "bash": "Other",
        "capture": "ExecutionMagics",
        "debug": "ExecutionMagics",
        "file": "Other",
        "html": "DisplayMagics",
        "javascript": "DisplayMagics",
        "js": "DisplayMagics",
        "latex": "DisplayMagics",
        "markdown": "DisplayMagics",
        "perl": "Other",
        "prun": "ExecutionMagics",
        "pypy": "Other",
        "python": "Other",
        "python2": "Other",
        "python3": "Other",
        "ruby": "Other",
        "script": "ScriptMagics",
        "sh": "Other",
        "svg": "DisplayMagics",
        "sx": "OSMagics",
        "system": "OSMagics",
        "time": "ExecutionMagics",
        "timeit": "ExecutionMagics",
        "writefile": "OSMagics"
       },
       "line": {
        "alias": "OSMagics",
        "alias_magic": "BasicMagics",
        "autocall": "AutoMagics",
        "automagic": "AutoMagics",
        "autosave": "KernelMagics",
        "bookmark": "OSMagics",
        "cat": "Other",
        "cd": "OSMagics",
        "clear": "KernelMagics",
        "colors": "BasicMagics",
        "config": "ConfigMagics",
        "connect_info": "KernelMagics",
        "cp": "Other",
        "debug": "ExecutionMagics",
        "dhist": "OSMagics",
        "dirs": "OSMagics",
        "doctest_mode": "BasicMagics",
        "ed": "Other",
        "edit": "KernelMagics",
        "env": "OSMagics",
        "gui": "BasicMagics",
        "hist": "Other",
        "history": "HistoryMagics",
        "killbgscripts": "ScriptMagics",
        "ldir": "Other",
        "less": "KernelMagics",
        "lf": "Other",
        "lk": "Other",
        "ll": "Other",
        "load": "CodeMagics",
        "load_ext": "ExtensionMagics",
        "loadpy": "CodeMagics",
        "logoff": "LoggingMagics",
        "logon": "LoggingMagics",
        "logstart": "LoggingMagics",
        "logstate": "LoggingMagics",
        "logstop": "LoggingMagics",
        "ls": "Other",
        "lsmagic": "BasicMagics",
        "lx": "Other",
        "macro": "ExecutionMagics",
        "magic": "BasicMagics",
        "man": "KernelMagics",
        "matplotlib": "PylabMagics",
        "mkdir": "Other",
        "more": "KernelMagics",
        "mv": "Other",
        "notebook": "BasicMagics",
        "page": "BasicMagics",
        "pastebin": "CodeMagics",
        "pdb": "ExecutionMagics",
        "pdef": "NamespaceMagics",
        "pdoc": "NamespaceMagics",
        "pfile": "NamespaceMagics",
        "pinfo": "NamespaceMagics",
        "pinfo2": "NamespaceMagics",
        "pip": "BasicMagics",
        "popd": "OSMagics",
        "pprint": "BasicMagics",
        "precision": "BasicMagics",
        "profile": "BasicMagics",
        "prun": "ExecutionMagics",
        "psearch": "NamespaceMagics",
        "psource": "NamespaceMagics",
        "pushd": "OSMagics",
        "pwd": "OSMagics",
        "pycat": "OSMagics",
        "pylab": "PylabMagics",
        "qtconsole": "KernelMagics",
        "quickref": "BasicMagics",
        "recall": "HistoryMagics",
        "rehashx": "OSMagics",
        "reload_ext": "ExtensionMagics",
        "rep": "Other",
        "rerun": "HistoryMagics",
        "reset": "NamespaceMagics",
        "reset_selective": "NamespaceMagics",
        "rm": "Other",
        "rmdir": "Other",
        "run": "ExecutionMagics",
        "save": "CodeMagics",
        "sc": "OSMagics",
        "set_env": "OSMagics",
        "store": "StoreMagics",
        "sx": "OSMagics",
        "system": "OSMagics",
        "tb": "ExecutionMagics",
        "time": "ExecutionMagics",
        "timeit": "ExecutionMagics",
        "unalias": "OSMagics",
        "unload_ext": "ExtensionMagics",
        "watermark": "WaterMark",
        "who": "NamespaceMagics",
        "who_ls": "NamespaceMagics",
        "whos": "NamespaceMagics",
        "xdel": "NamespaceMagics",
        "xmode": "BasicMagics"
       }
      },
      "text/plain": [
       "Available line magics:\n",
       "%alias  %alias_magic  %autocall  %automagic  %autosave  %bookmark  %cat  %cd  %clear  %colors  %config  %connect_info  %cp  %debug  %dhist  %dirs  %doctest_mode  %ed  %edit  %env  %gui  %hist  %history  %killbgscripts  %ldir  %less  %lf  %lk  %ll  %load  %load_ext  %loadpy  %logoff  %logon  %logstart  %logstate  %logstop  %ls  %lsmagic  %lx  %macro  %magic  %man  %matplotlib  %mkdir  %more  %mv  %notebook  %page  %pastebin  %pdb  %pdef  %pdoc  %pfile  %pinfo  %pinfo2  %popd  %pprint  %precision  %profile  %prun  %psearch  %psource  %pushd  %pwd  %pycat  %pylab  %qtconsole  %quickref  %recall  %rehashx  %reload_ext  %rep  %rerun  %reset  %reset_selective  %rm  %rmdir  %run  %save  %sc  %set_env  %store  %sx  %system  %tb  %time  %timeit  %unalias  %unload_ext  %watermark  %who  %who_ls  %whos  %xdel  %xmode\n",
       "\n",
       "Available cell magics:\n",
       "%%!  %%HTML  %%SVG  %%bash  %%capture  %%debug  %%file  %%html  %%javascript  %%js  %%latex  %%markdown  %%perl  %%prun  %%pypy  %%python  %%python2  %%python3  %%ruby  %%script  %%sh  %%svg  %%sx  %%system  %%time  %%timeit  %%writefile\n",
       "\n",
       "Automagic is ON, % prefix IS NOT needed for line magics."
      ]
     },
     "execution_count": 17,
     "metadata": {},
     "output_type": "execute_result"
    }
   ],
   "source": [
    "# IPython Magic Commands\n",
    "\n",
    "# This will list all magic commands\n",
    "%lsmagic\n",
    "\n"
   ]
  },
  {
   "cell_type": "code",
   "execution_count": 18,
   "metadata": {},
   "outputs": [
    {
     "data": {
      "image/png": "[encoded data removed]",
      "text/plain": [
       "<Figure size 432x288 with 1 Axes>"
      ]
     },
     "metadata": {
      "needs_background": "light"
     },
     "output_type": "display_data"
    }
   ],
   "source": [
    "# Make a histogram with 62 bins/buckets as we have 62 labels as of now :)\n",
    "plt.hist(labels, 62)\n",
    "\n",
    "# Show the plot\n",
    "plt.show()"
   ]
  },
  {
   "cell_type": "code",
   "execution_count": 19,
   "metadata": {},
   "outputs": [],
   "source": [
    "# Visualizing The Traffic Signs"
   ]
  },
  {
   "cell_type": "code",
   "execution_count": 20,
   "metadata": {},
   "outputs": [],
   "source": [
    "# Transfor IMAGES to same size"
   ]
  },
  {
   "cell_type": "code",
   "execution_count": null,
   "metadata": {},
   "outputs": [],
   "source": [
    "# Total images size images.size: 4575.\n",
    "# Pick random images to see whether they are all same  size.\n",
    "traffic_sign_images = [0, 400, 800, 1200, 1600, 2000, 2400, 2800, 3200, 3600, 4000, 4400]\n",
    "\n",
    "for i in range(len(traffic_sign_images)):\n",
    "    plt.subplot(3, 4, i+1)\n",
    "    plt.axis('off')\n",
    "    plt.imshow(images[traffic_sign_images[i]])\n",
    "    plt.subplots_adjust(wspace=0.5)\n",
    "plt.show()    "
   ]
  },
  {
   "cell_type": "code",
   "execution_count": null,
   "metadata": {},
   "outputs": [],
   "source": [
    "# These images are not of the same size!"
   ]
  },
  {
   "cell_type": "code",
   "execution_count": null,
   "metadata": {},
   "outputs": [],
   "source": [
    "# Now show the image shape\n",
    "\n",
    "for i in range(len(traffic_sign_images)):\n",
    "    plt.subplot(3, 4, i+1)\n",
    "    plt.axis('off')\n",
    "    plt.imshow(images[traffic_sign_images[i]])\n",
    "    plt.subplots_adjust(wspace=0.5)\n",
    "    plt.show() \n",
    "    print(\"shape: {0}, min: {1}, max: {2}\".format(images[traffic_sign_images[i]].shape, \n",
    "                                                  images[traffic_sign_images[i]].min(), \n",
    "                                                  images[traffic_sign_images[i]].max()))"
   ]
  },
  {
   "cell_type": "code",
   "execution_count": null,
   "metadata": {},
   "outputs": [],
   "source": [
    "# Plot all 62 traffic sign images and each label images count "
   ]
  },
  {
   "cell_type": "code",
   "execution_count": null,
   "metadata": {},
   "outputs": [],
   "source": [
    "# Get the unique labels \n",
    "unique_labels = set(labels)\n",
    "\n",
    "# Initialize the figure\n",
    "plt.figure(figsize=(15, 15))\n",
    "# Set a counter\n",
    "i = 1\n",
    "\n",
    "# For each unique label,\n",
    "for label in unique_labels:\n",
    "    # You pick the first image for each label\n",
    "    image = images[labels.index(label)]\n",
    "    plt.subplot(7, 10, i)\n",
    "    plt.axis('off')\n",
    "    # Show title on each label image\n",
    "    plt.title(\"Label {0} ({1})\".format(label, labels.count(label)))\n",
    "    # Add 1 to the counter\n",
    "    i += 1\n",
    "    # And you plot this first image \n",
    "#     plt.imshow(image)\n",
    "# COMMENT BELOW to see color images\n",
    "    plt.imshow(image, cmap=\"gray\")\n",
    "    \n",
    "# Show the plot\n",
    "plt.show()"
   ]
  },
  {
   "cell_type": "code",
   "execution_count": null,
   "metadata": {},
   "outputs": [],
   "source": [
    "# Note that you indeed have to specify the color map or cmap and set it to \"gray\" to plot the images in grayscale. \n",
    "# That is because imshow() by default uses, by default, a heatmap-like color map"
   ]
  },
  {
   "cell_type": "code",
   "execution_count": null,
   "metadata": {},
   "outputs": [],
   "source": [
    "\n",
    "# Initialize placeholders \n",
    "x = tf.placeholder(dtype = tf.float32, shape = [None, 28, 28])\n",
    "y = tf.placeholder(dtype = tf.int32, shape = [None])\n",
    "\n",
    "# Flatten the input data\n",
    "images_flat = tf.contrib.layers.flatten(x)\n",
    "\n",
    "# Fully connected layer \n",
    "logits = tf.contrib.layers.fully_connected(images_flat, 62, tf.nn.relu)\n",
    "\n",
    "# Define a loss function\n",
    "loss = tf.reduce_mean(tf.nn.sparse_softmax_cross_entropy_with_logits(labels = y, \n",
    "                                                                    logits = logits))\n",
    "# Define an optimizer \n",
    "train_op = tf.train.AdamOptimizer(learning_rate=0.001).minimize(loss)\n",
    "\n",
    "# Convert logits to label indexes\n",
    "correct_pred = tf.argmax(logits, 1)\n",
    "\n",
    "# Define an accuracy metric\n",
    "accuracy = tf.reduce_mean(tf.cast(correct_pred, tf.float32))"
   ]
  },
  {
   "cell_type": "code",
   "execution_count": null,
   "metadata": {},
   "outputs": [],
   "source": []
  },
  {
   "cell_type": "code",
   "execution_count": null,
   "metadata": {},
   "outputs": [],
   "source": [
    "print(\"images_flat: \", images_flat)\n",
    "print(\"logits: \", logits)\n",
    "print(\"loss: \", loss)\n",
    "print(\"predicted_labels: \", correct_pred)"
   ]
  }
 ],
 "metadata": {
  "kernelspec": {
   "display_name": "Python 3",
   "language": "python",
   "name": "python3"
  },
  "language_info": {
   "codemirror_mode": {
    "name": "ipython",
    "version": 3
   },
   "file_extension": ".py",
   "mimetype": "text/x-python",
   "name": "python",
   "nbconvert_exporter": "python",
   "pygments_lexer": "ipython3",
   "version": "3.6.6"
  }
 },
 "nbformat": 4,
 "nbformat_minor": 2
}
