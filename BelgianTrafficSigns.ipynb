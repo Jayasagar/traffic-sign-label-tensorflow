{
 "cells": [
  {
   "cell_type": "code",
   "execution_count": null,
   "metadata": {},
   "outputs": [],
   "source": []
  },
  {
   "cell_type": "code",
   "execution_count": null,
   "metadata": {},
   "outputs": [],
   "source": [
    "# DON'T DO THIS\n",
    "####### !pip install numpy"
   ]
  },
  {
   "cell_type": "code",
   "execution_count": null,
   "metadata": {},
   "outputs": [],
   "source": [
    "# Ref: https://jakevdp.github.io/blog/2017/12/05/installing-python-packages-from-jupyter/\n",
    "\n",
    "# Jupyter Shortcuts and tricks\n",
    "# https://www.dataquest.io/blog/jupyter-notebook-tips-tricks-shortcuts/"
   ]
  },
  {
   "cell_type": "code",
   "execution_count": null,
   "metadata": {},
   "outputs": [],
   "source": [
    "######### This is Best way ###########\n",
    "# Install a pip package in the current Jupyter kernel\n",
    "import sys\n",
    "!{sys.executable} -m pip install numpy"
   ]
  },
  {
   "cell_type": "code",
   "execution_count": null,
   "metadata": {},
   "outputs": [],
   "source": [
    "#### Below is always best practice \n",
    "# python -m pip install <package>\n",
    "\n",
    "# because is more explicit about where the package will be installed"
   ]
  },
  {
   "cell_type": "code",
   "execution_count": null,
   "metadata": {},
   "outputs": [],
   "source": [
    "!echo $PATH"
   ]
  },
  {
   "cell_type": "code",
   "execution_count": null,
   "metadata": {},
   "outputs": [],
   "source": [
    "!type python\n",
    "\n",
    "### Prints all available Python installations\n",
    "!type -a python\n",
    "!type -a python3\n",
    "\n",
    "!type -a pip\n",
    "!type -a pip3"
   ]
  },
  {
   "cell_type": "code",
   "execution_count": null,
   "metadata": {},
   "outputs": [],
   "source": []
  },
  {
   "cell_type": "code",
   "execution_count": null,
   "metadata": {},
   "outputs": [],
   "source": [
    "## The list of paths searched by Python on import is found in sys.path:\n",
    "import sys\n",
    "sys.path\n"
   ]
  },
  {
   "cell_type": "code",
   "execution_count": null,
   "metadata": {},
   "outputs": [],
   "source": [
    "\n",
    "# By default, the first place Python looks for a module is an empty path, meaning the current working directory.\n",
    "# If the module is not found there, it goes down the list of locations until the module is found. \n",
    "# You can find out which location has been used using the __path__ attribute of an imported module:\n",
    "\n",
    "import numpy as np\n",
    "np.__path__"
   ]
  },
  {
   "cell_type": "code",
   "execution_count": null,
   "metadata": {},
   "outputs": [],
   "source": []
  },
  {
   "cell_type": "code",
   "execution_count": null,
   "metadata": {},
   "outputs": [],
   "source": [
    "# To see the kernels you have available on your system, you can run the following command in the shell:\n",
    "\n",
    "!jupyter kernelspec list\n",
    "\n",
    "# The Python executable being used in the notebook can be determined using\n",
    "!type python\n",
    "!type python3\n",
    "sys.executable"
   ]
  },
  {
   "cell_type": "code",
   "execution_count": null,
   "metadata": {},
   "outputs": [],
   "source": [
    "# Install a pip package in the current Jupyter kernel# Insta \n",
    "import sys\n",
    "!{sys.executable} -m pip install tensorflow scikit-image matplotlib watermark"
   ]
  },
  {
   "cell_type": "code",
   "execution_count": null,
   "metadata": {},
   "outputs": [],
   "source": []
  },
  {
   "cell_type": "code",
   "execution_count": null,
   "metadata": {},
   "outputs": [],
   "source": [
    "%load_ext watermark\n",
    "%watermark -p tensorflow,skimage,matplotlib,numpy,matplotlib,random"
   ]
  },
  {
   "cell_type": "code",
   "execution_count": null,
   "metadata": {},
   "outputs": [],
   "source": [
    "# Imports\n",
    "\n",
    "import tensorflow as tf\n",
    "from skimage import transform\n",
    "from skimage import data\n",
    "from skimage.color import rgb2gray\n",
    "import matplotlib.pyplot as plt\n",
    "import os\n",
    "import numpy as np\n",
    "import random\n",
    "# Import the `pyplot` module\n",
    "import matplotlib.pyplot as plt \n"
   ]
  },
  {
   "cell_type": "code",
   "execution_count": null,
   "metadata": {},
   "outputs": [],
   "source": [
    "# Loading And Exploring The Data"
   ]
  },
  {
   "cell_type": "code",
   "execution_count": null,
   "metadata": {},
   "outputs": [],
   "source": [
    "def load_data(data_dir):\n",
    "    #Get all teh directories in data directory\n",
    "    data_directories = [d for d in os.listdir(data_dir)\n",
    "        if os.path.isdir(os.path.join(data_dir, d))]\n",
    "    labels = []\n",
    "    images = []\n",
    "    for d in data_directories:\n",
    "        label_directory = os.path.join(data_dir, d)\n",
    "        file_names = [os.path.join(label_directory, f) \n",
    "                      for f in os.listdir(label_directory) \n",
    "                      if f.endswith(\".ppm\")]\n",
    "        for f in file_names:\n",
    "            images.append(data.imread(f))\n",
    "            labels.append(int(d))\n",
    "    return images, labels\n",
    "\n",
    "ROOT_PATH = '/Users/jay/github.com/jayasagar/traffic-sign-label-tensorflow'\n",
    "train_data_dir = os.path.join(ROOT_PATH, 'Training');\n",
    "test_data_dir = os.path.join(ROOT_PATH, 'Testing');\n",
    "\n",
    "images, labels = load_data(train_data_dir)\n",
    "\n",
    "# Rescale the images in the `images` array\n",
    "# COMMENT BELOW LINE TO SEE ORIGINAL IMAGES\n",
    "images = [transform.resize(image, (28, 28)) for image in images]\n",
    "\n",
    "images = np.array(images)\n",
    "# COMMENT BELOW LINE TO TURN OFF GRAY SCLAE\n",
    "# Convert `images28` to grayscale\n",
    "images = rgb2gray(images)\n",
    "\n",
    "print('images.size:', images.shape)\n",
    "print('images.ndim:', images.ndim)\n",
    "print('images.size:', images.size)\n",
    "\n",
    "# labels = np.array(labels)\n",
    "# print('labels.ndim:', labels.ndim)\n",
    "# print('labels.size:',labels.size)"
   ]
  },
  {
   "cell_type": "code",
   "execution_count": null,
   "metadata": {},
   "outputs": [],
   "source": [
    "# ?, you can access the Docstring for quick reference on syntax.\n",
    "?str.replace()"
   ]
  },
  {
   "cell_type": "code",
   "execution_count": null,
   "metadata": {},
   "outputs": [],
   "source": [
    "# IPython Magic Commands\n",
    "\n",
    "# This will list all magic commands\n",
    "%lsmagic\n",
    "\n"
   ]
  },
  {
   "cell_type": "code",
   "execution_count": null,
   "metadata": {},
   "outputs": [],
   "source": [
    "# Make a histogram with 62 bins/buckets as we have 62 labels as of now :)\n",
    "plt.hist(labels, 62)\n",
    "\n",
    "# Show the plot\n",
    "plt.show()"
   ]
  },
  {
   "cell_type": "code",
   "execution_count": null,
   "metadata": {},
   "outputs": [],
   "source": [
    "# Visualizing The Traffic Signs"
   ]
  },
  {
   "cell_type": "code",
   "execution_count": null,
   "metadata": {},
   "outputs": [],
   "source": [
    "# Transfor IMAGES to same size"
   ]
  },
  {
   "cell_type": "code",
   "execution_count": null,
   "metadata": {},
   "outputs": [],
   "source": [
    "# Total images size images.size: 4575.\n",
    "# Pick random images to see whether they are all same  size.\n",
    "traffic_sign_images = [0, 400, 800, 1200, 1600, 2000, 2400, 2800, 3200, 3600, 4000, 4400]\n",
    "\n",
    "for i in range(len(traffic_sign_images)):\n",
    "    plt.subplot(3, 4, i+1)\n",
    "    plt.axis('off')\n",
    "    plt.imshow(images[traffic_sign_images[i]])\n",
    "    plt.subplots_adjust(wspace=0.5)\n",
    "plt.show()    "
   ]
  },
  {
   "cell_type": "code",
   "execution_count": null,
   "metadata": {},
   "outputs": [],
   "source": [
    "# These images are not of the same size!"
   ]
  },
  {
   "cell_type": "code",
   "execution_count": null,
   "metadata": {},
   "outputs": [],
   "source": [
    "# Now show the image shape\n",
    "\n",
    "for i in range(len(traffic_sign_images)):\n",
    "    plt.subplot(3, 4, i+1)\n",
    "    plt.axis('off')\n",
    "    plt.imshow(images[traffic_sign_images[i]])\n",
    "    plt.subplots_adjust(wspace=0.5)\n",
    "    plt.show() \n",
    "    print(\"shape: {0}, min: {1}, max: {2}\".format(images[traffic_sign_images[i]].shape, \n",
    "                                                  images[traffic_sign_images[i]].min(), \n",
    "                                                  images[traffic_sign_images[i]].max()))"
   ]
  },
  {
   "cell_type": "code",
   "execution_count": null,
   "metadata": {},
   "outputs": [],
   "source": [
    "# Plot all 62 traffic sign images and each label images count "
   ]
  },
  {
   "cell_type": "code",
   "execution_count": null,
   "metadata": {},
   "outputs": [],
   "source": [
    "# Get the unique labels \n",
    "unique_labels = set(labels)\n",
    "\n",
    "# Initialize the figure\n",
    "plt.figure(figsize=(15, 15))\n",
    "# Set a counter\n",
    "i = 1\n",
    "\n",
    "# For each unique label,\n",
    "for label in unique_labels:\n",
    "    # You pick the first image for each label\n",
    "    image = images[labels.index(label)]\n",
    "    plt.subplot(7, 10, i)\n",
    "    plt.axis('off')\n",
    "    # Show title on each label image\n",
    "    plt.title(\"Label {0} ({1})\".format(label, labels.count(label)))\n",
    "    # Add 1 to the counter\n",
    "    i += 1\n",
    "    # And you plot this first image \n",
    "#     plt.imshow(image)\n",
    "# COMMENT BELOW to see color images\n",
    "    plt.imshow(image, cmap=\"gray\")\n",
    "    \n",
    "# Show the plot\n",
    "plt.show()"
   ]
  },
  {
   "cell_type": "code",
   "execution_count": null,
   "metadata": {},
   "outputs": [],
   "source": [
    "# Note that you indeed have to specify the color map or cmap and set it to \"gray\" to plot the images in grayscale. \n",
    "# That is because imshow() by default uses, by default, a heatmap-like color map"
   ]
  },
  {
   "cell_type": "code",
   "execution_count": null,
   "metadata": {},
   "outputs": [],
   "source": [
    "\n",
    "# Initialize placeholders \n",
    "x = tf.placeholder(dtype = tf.float32, shape = [None, 28, 28])\n",
    "y = tf.placeholder(dtype = tf.int32, shape = [None])"
   ]
  }
 ],
 "metadata": {
  "kernelspec": {
   "display_name": "Python 3",
   "language": "python",
   "name": "python3"
  },
  "language_info": {
   "codemirror_mode": {
    "name": "ipython",
    "version": 3
   },
   "file_extension": ".py",
   "mimetype": "text/x-python",
   "name": "python",
   "nbconvert_exporter": "python",
   "pygments_lexer": "ipython3",
   "version": "3.6.6"
  }
 },
 "nbformat": 4,
 "nbformat_minor": 2
}
