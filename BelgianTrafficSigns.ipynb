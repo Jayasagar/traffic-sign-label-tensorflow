{
 "cells": [
  {
   "cell_type": "code",
   "execution_count": null,
   "metadata": {},
   "outputs": [],
   "source": []
  },
  {
   "cell_type": "code",
   "execution_count": null,
   "metadata": {},
   "outputs": [],
   "source": [
    "# DON'T DO THIS\n",
    "####### !pip install numpy"
   ]
  },
  {
   "cell_type": "code",
   "execution_count": 4,
   "metadata": {},
   "outputs": [],
   "source": [
    "# Ref: https://jakevdp.github.io/blog/2017/12/05/installing-python-packages-from-jupyter/\n",
    "\n",
    "# Jupyter Shortcuts and tricks\n",
    "# https://www.dataquest.io/blog/jupyter-notebook-tips-tricks-shortcuts/"
   ]
  },
  {
   "cell_type": "code",
   "execution_count": null,
   "metadata": {},
   "outputs": [],
   "source": [
    "######### This is Best way ###########\n",
    "# Install a pip package in the current Jupyter kernel\n",
    "import sys\n",
    "!{sys.executable} -m pip install numpy"
   ]
  },
  {
   "cell_type": "code",
   "execution_count": null,
   "metadata": {},
   "outputs": [],
   "source": [
    "#### Below is always best practice \n",
    "# python -m pip install <package>\n",
    "\n",
    "# because is more explicit about where the package will be installed"
   ]
  },
  {
   "cell_type": "code",
   "execution_count": null,
   "metadata": {},
   "outputs": [],
   "source": [
    "!echo $PATH"
   ]
  },
  {
   "cell_type": "code",
   "execution_count": null,
   "metadata": {},
   "outputs": [],
   "source": [
    "!type python\n",
    "\n",
    "### Prints all available Python installations\n",
    "!type -a python\n",
    "!type -a python3\n",
    "\n",
    "!type -a pip\n",
    "!type -a pip3"
   ]
  },
  {
   "cell_type": "code",
   "execution_count": null,
   "metadata": {},
   "outputs": [],
   "source": []
  },
  {
   "cell_type": "code",
   "execution_count": null,
   "metadata": {},
   "outputs": [],
   "source": [
    "## The list of paths searched by Python on import is found in sys.path:\n",
    "import sys\n",
    "sys.path\n"
   ]
  },
  {
   "cell_type": "code",
   "execution_count": null,
   "metadata": {},
   "outputs": [],
   "source": [
    "\n",
    "# By default, the first place Python looks for a module is an empty path, meaning the current working directory.\n",
    "# If the module is not found there, it goes down the list of locations until the module is found. \n",
    "# You can find out which location has been used using the __path__ attribute of an imported module:\n",
    "\n",
    "import numpy as np\n",
    "np.__path__"
   ]
  },
  {
   "cell_type": "code",
   "execution_count": null,
   "metadata": {},
   "outputs": [],
   "source": []
  },
  {
   "cell_type": "code",
   "execution_count": null,
   "metadata": {},
   "outputs": [],
   "source": [
    "# To see the kernels you have available on your system, you can run the following command in the shell:\n",
    "\n",
    "!jupyter kernelspec list\n",
    "\n",
    "# The Python executable being used in the notebook can be determined using\n",
    "!type python\n",
    "!type python3\n",
    "sys.executable"
   ]
  },
  {
   "cell_type": "code",
   "execution_count": null,
   "metadata": {},
   "outputs": [],
   "source": [
    "# Install a pip package in the current Jupyter kernel# Insta \n",
    "import sys\n",
    "!{sys.executable} -m pip install tensorflow scikit-image matplotlib watermark"
   ]
  },
  {
   "cell_type": "code",
   "execution_count": null,
   "metadata": {},
   "outputs": [],
   "source": []
  },
  {
   "cell_type": "code",
   "execution_count": 32,
   "metadata": {},
   "outputs": [
    {
     "name": "stdout",
     "output_type": "stream",
     "text": [
      "The watermark extension is already loaded. To reload it, use:\n",
      "  %reload_ext watermark\n",
      "tensorflow 1.10.1\n",
      "skimage 0.14.0\n",
      "matplotlib 2.2.3\n",
      "numpy 1.15.1\n",
      "matplotlib 2.2.3\n",
      "random n\u0007\n"
     ]
    }
   ],
   "source": [
    "%load_ext watermark\n",
    "%watermark -p tensorflow,skimage,matplotlib,numpy,matplotlib,random"
   ]
  },
  {
   "cell_type": "code",
   "execution_count": 34,
   "metadata": {},
   "outputs": [],
   "source": [
    "# Imports\n",
    "\n",
    "import tensorflow as tf\n",
    "from skimage import transform\n",
    "from skimage import data\n",
    "from skimage.color import rgb2gray\n",
    "import matplotlib.pyplot as plt\n",
    "import os\n",
    "import numpy as np\n",
    "import random\n"
   ]
  },
  {
   "cell_type": "code",
   "execution_count": 35,
   "metadata": {},
   "outputs": [],
   "source": [
    "# Loading And Exploring The Data"
   ]
  },
  {
   "cell_type": "code",
   "execution_count": 43,
   "metadata": {},
   "outputs": [
    {
     "name": "stdout",
     "output_type": "stream",
     "text": [
      "Length 62\n"
     ]
    }
   ],
   "source": [
    "def load_data(data_dir):\n",
    "    #Get all teh directories in data directory\n",
    "    data_directories = [d for d in os.listdir(data_dir)\n",
    "        if os.path.isdir(os.path.join(data_dir, d))]\n",
    "    return data_directories\n",
    "\n",
    "ROOT_PATH = '/Users/jay/github.com/jayasagar/traffic-sign-label-tensorflow'\n",
    "train_data_dir = os.path.join(ROOT_PATH_PATH, 'Training');\n",
    "test_data_dir = os.path.join(ROOT_PATH, 'Testing');\n",
    "\n",
    "print('Length', len(load_data(train_data_dir)))"
   ]
  },
  {
   "cell_type": "code",
   "execution_count": 3,
   "metadata": {},
   "outputs": [],
   "source": [
    "# ?, you can access the Docstring for quick reference on syntax.\n",
    "?str.replace()"
   ]
  },
  {
   "cell_type": "code",
   "execution_count": null,
   "metadata": {},
   "outputs": [],
   "source": [
    "# IPython Magic Commands\n",
    "\n",
    "# This will list all magic commands\n",
    "%lsmagic\n",
    "\n"
   ]
  }
 ],
 "metadata": {
  "kernelspec": {
   "display_name": "Python 3",
   "language": "python",
   "name": "python3"
  },
  "language_info": {
   "codemirror_mode": {
    "name": "ipython",
    "version": 3
   },
   "file_extension": ".py",
   "mimetype": "text/x-python",
   "name": "python",
   "nbconvert_exporter": "python",
   "pygments_lexer": "ipython3",
   "version": "3.6.6"
  }
 },
 "nbformat": 4,
 "nbformat_minor": 2
}
